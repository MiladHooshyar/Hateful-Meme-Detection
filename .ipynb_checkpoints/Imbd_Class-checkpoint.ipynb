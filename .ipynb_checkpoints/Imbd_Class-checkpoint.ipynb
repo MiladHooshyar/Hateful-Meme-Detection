{
 "cells": [
  {
   "cell_type": "code",
   "execution_count": 1,
   "metadata": {},
   "outputs": [],
   "source": [
    "import matplotlib.pyplot as plt\n",
    "import numpy as np\n",
    "import os\n",
    "import PIL\n",
    "import tensorflow as tf\n",
    "import json\n",
    "\n",
    "from tensorflow import keras\n",
    "from tensorflow.keras import layers\n",
    "from tensorflow.keras.models import Sequential\n",
    "import seaborn as sns\n",
    "\n",
    "from sklearn.linear_model import LogisticRegression\n",
    "from sklearn.metrics import roc_auc_score, confusion_matrix"
   ]
  },
  {
   "cell_type": "markdown",
   "metadata": {},
   "source": [
    "# Binary classification of imdb review into postive-negtive"
   ]
  },
  {
   "cell_type": "markdown",
   "metadata": {},
   "source": [
    "# Baseline: Logistic Regression"
   ]
  },
  {
   "cell_type": "code",
   "execution_count": 2,
   "metadata": {},
   "outputs": [],
   "source": [
    "train = np.load('D:/meme_data/features/train_imbd.npz')\n",
    "text_feature = train['text_feature']\n",
    "label= train['label']\n",
    "\n",
    "index = np.arange(len(label))\n",
    "np.random.shuffle(index)\n",
    "text_feature = text_feature[index,:]\n",
    "label= label[index]\n",
    "\n",
    "num_classes = len(np.unique(label))"
   ]
  },
  {
   "cell_type": "code",
   "execution_count": 3,
   "metadata": {},
   "outputs": [],
   "source": [
    "val_ratio = 0.2\n",
    "L_val = int(val_ratio * len(label))\n",
    "\n",
    "label_train = label[:-L_val]\n",
    "label_val = label[-L_val:]\n",
    "\n",
    "text_feature_train = text_feature[:-L_val, :]\n",
    "text_feature_val = text_feature[-L_val:, :]"
   ]
  },
  {
   "cell_type": "code",
   "execution_count": 8,
   "metadata": {},
   "outputs": [
    {
     "name": "stdout",
     "output_type": "stream",
     "text": [
      "Training AUC ROC with image: 0.9334791279829447\n",
      "Validation AUC ROC with image: 0.9364554115533433\n"
     ]
    }
   ],
   "source": [
    "clf = LogisticRegression(random_state=0).fit(text_feature_train, label_train)\n",
    "prob = clf.predict_proba(text_feature_train)\n",
    "print('Training AUC ROC with image:', roc_auc_score(label_train, prob[:, 1]))\n",
    "\n",
    "\n",
    "prob = clf.predict_proba(text_feature_val)\n",
    "print('Validation AUC ROC with image:', roc_auc_score(label_val, prob[:, 1]))"
   ]
  },
  {
   "cell_type": "code",
   "execution_count": 9,
   "metadata": {},
   "outputs": [
    {
     "data": {
      "image/png": "[encoded data removed]",
      "text/plain": [
       "<Figure size 432x288 with 2 Axes>"
      ]
     },
     "metadata": {
      "needs_background": "light"
     },
     "output_type": "display_data"
    }
   ],
   "source": [
    "prob = clf.predict_proba(text_feature_val)\n",
    "\n",
    "confusion = confusion_matrix(\n",
    "label_val, prob.argmax(axis = 1))\n",
    "confusion_normalized = confusion.astype(\"float\") / confusion.sum(axis=1)\n",
    "\n",
    "axis_labels = range(num_classes)\n",
    "ax = sns.heatmap(\n",
    "    confusion_normalized, xticklabels=axis_labels, yticklabels=axis_labels,\n",
    "    cmap='Blues', annot=True, fmt='.2f', square=True)\n",
    "plt.title(\"Confusion matrix\")\n",
    "plt.ylabel(\"True label\")\n",
    "plt.xlabel(\"Predicted label\")\n",
    "plt.show()"
   ]
  },
  {
   "cell_type": "markdown",
   "metadata": {},
   "source": [
    "# Dense classifier"
   ]
  },
  {
   "cell_type": "code",
   "execution_count": 14,
   "metadata": {},
   "outputs": [],
   "source": [
    "train = np.load('D:/meme_data/features/train_imbd.npz')\n",
    "text_feature = train['text_feature']\n",
    "label= train['label']\n",
    "\n",
    "index = np.arange(len(label))\n",
    "np.random.shuffle(index)\n",
    "text_feature = text_feature[index,:]\n",
    "label= label[index]\n",
    "\n",
    "num_classes = len(np.unique(label))"
   ]
  },
  {
   "cell_type": "code",
   "execution_count": 17,
   "metadata": {},
   "outputs": [],
   "source": [
    "val_ratio = 0.2\n",
    "L_val = int(val_ratio * len(label))\n",
    "\n",
    "label_train = label[:-L_val]\n",
    "label_val = label[-L_val:]\n",
    "\n",
    "text_feature_train = text_feature[:-L_val, :]\n",
    "text_feature_val = text_feature[-L_val:, :]"
   ]
  },
  {
   "cell_type": "code",
   "execution_count": 18,
   "metadata": {},
   "outputs": [],
   "source": [
    "N_feature = text_feature.shape[1]\n",
    "\n",
    "model = Sequential([\n",
    "    layers.Dense(32, activation= tf.keras.layers.LeakyReLU(alpha=0.1))\n",
    "    layers.Dropout(0.2),\n",
    "    layers.Dense(16, activation='relu'),\n",
    "    layers.Dense(num_classes)\n",
    "])\n",
    "\n",
    "model.compile(optimizer='adam',\n",
    "              loss=tf.keras.losses.SparseCategoricalCrossentropy(from_logits=True),\n",
    "              metrics=['accuracy'])"
   ]
  },
  {
   "cell_type": "code",
   "execution_count": 21,
   "metadata": {},
   "outputs": [
    {
     "name": "stdout",
     "output_type": "stream",
     "text": [
      "Train on 4000 samples, validate on 1000 samples\n",
      "Epoch 1/40\n",
      "4000/4000 [==============================] - 1s 327us/sample - loss: 0.6938 - accuracy: 0.5470 - val_loss: 0.6680 - val_accuracy: 0.5220\n",
      "Epoch 2/40\n",
      "4000/4000 [==============================] - 0s 101us/sample - loss: 0.6626 - accuracy: 0.6053 - val_loss: 0.6145 - val_accuracy: 0.7790\n",
      "Epoch 3/40\n",
      "4000/4000 [==============================] - 0s 104us/sample - loss: 0.6070 - accuracy: 0.6770 - val_loss: 0.5431 - val_accuracy: 0.8060\n",
      "Epoch 4/40\n",
      "4000/4000 [==============================] - 0s 114us/sample - loss: 0.5426 - accuracy: 0.7377 - val_loss: 0.4729 - val_accuracy: 0.8300\n",
      "Epoch 5/40\n",
      "4000/4000 [==============================] - 0s 97us/sample - loss: 0.4828 - accuracy: 0.7790 - val_loss: 0.4204 - val_accuracy: 0.8320\n",
      "Epoch 6/40\n",
      "4000/4000 [==============================] - 0s 111us/sample - loss: 0.4577 - accuracy: 0.7830 - val_loss: 0.4148 - val_accuracy: 0.8150\n",
      "Epoch 7/40\n",
      "4000/4000 [==============================] - 0s 111us/sample - loss: 0.4337 - accuracy: 0.8025 - val_loss: 0.3780 - val_accuracy: 0.8380\n",
      "Epoch 8/40\n",
      "4000/4000 [==============================] - 0s 103us/sample - loss: 0.4125 - accuracy: 0.8095 - val_loss: 0.3661 - val_accuracy: 0.8450\n",
      "Epoch 9/40\n",
      "4000/4000 [==============================] - 0s 112us/sample - loss: 0.3988 - accuracy: 0.8213 - val_loss: 0.3565 - val_accuracy: 0.8430\n",
      "Epoch 10/40\n",
      "4000/4000 [==============================] - 0s 115us/sample - loss: 0.3915 - accuracy: 0.8253 - val_loss: 0.3528 - val_accuracy: 0.8490\n",
      "Epoch 11/40\n",
      "4000/4000 [==============================] - 0s 105us/sample - loss: 0.3816 - accuracy: 0.8255 - val_loss: 0.3487 - val_accuracy: 0.8480\n",
      "Epoch 12/40\n",
      "4000/4000 [==============================] - 0s 112us/sample - loss: 0.3729 - accuracy: 0.8342 - val_loss: 0.3453 - val_accuracy: 0.8480\n",
      "Epoch 13/40\n",
      "4000/4000 [==============================] - 0s 107us/sample - loss: 0.3765 - accuracy: 0.8372 - val_loss: 0.3433 - val_accuracy: 0.8510\n",
      "Epoch 14/40\n",
      "4000/4000 [==============================] - 0s 103us/sample - loss: 0.3659 - accuracy: 0.8430 - val_loss: 0.3408 - val_accuracy: 0.8500\n",
      "Epoch 15/40\n",
      "4000/4000 [==============================] - 0s 110us/sample - loss: 0.3584 - accuracy: 0.8478 - val_loss: 0.3383 - val_accuracy: 0.8540\n",
      "Epoch 16/40\n",
      "4000/4000 [==============================] - 0s 102us/sample - loss: 0.3533 - accuracy: 0.8468 - val_loss: 0.3369 - val_accuracy: 0.8540\n",
      "Epoch 17/40\n",
      "4000/4000 [==============================] - 0s 116us/sample - loss: 0.3506 - accuracy: 0.8512 - val_loss: 0.3357 - val_accuracy: 0.8550\n",
      "Epoch 18/40\n",
      "4000/4000 [==============================] - 0s 108us/sample - loss: 0.3498 - accuracy: 0.8525 - val_loss: 0.3343 - val_accuracy: 0.8550\n",
      "Epoch 19/40\n",
      "4000/4000 [==============================] - 0s 112us/sample - loss: 0.3381 - accuracy: 0.8587 - val_loss: 0.3329 - val_accuracy: 0.8590\n",
      "Epoch 20/40\n",
      "4000/4000 [==============================] - 0s 118us/sample - loss: 0.3389 - accuracy: 0.8553 - val_loss: 0.3445 - val_accuracy: 0.8590\n",
      "Epoch 21/40\n",
      "4000/4000 [==============================] - 0s 124us/sample - loss: 0.3464 - accuracy: 0.8508 - val_loss: 0.3320 - val_accuracy: 0.8590\n",
      "Epoch 22/40\n",
      "4000/4000 [==============================] - 0s 121us/sample - loss: 0.3426 - accuracy: 0.8553 - val_loss: 0.3323 - val_accuracy: 0.8590\n",
      "Epoch 23/40\n",
      "4000/4000 [==============================] - 0s 111us/sample - loss: 0.3377 - accuracy: 0.8568 - val_loss: 0.3292 - val_accuracy: 0.8600\n",
      "Epoch 24/40\n",
      "4000/4000 [==============================] - 0s 115us/sample - loss: 0.3378 - accuracy: 0.8583 - val_loss: 0.3294 - val_accuracy: 0.8580\n",
      "Epoch 25/40\n",
      "4000/4000 [==============================] - 0s 117us/sample - loss: 0.3328 - accuracy: 0.8600 - val_loss: 0.3298 - val_accuracy: 0.8590\n",
      "Epoch 26/40\n",
      "4000/4000 [==============================] - 0s 104us/sample - loss: 0.3341 - accuracy: 0.8530 - val_loss: 0.3322 - val_accuracy: 0.8610\n",
      "Epoch 27/40\n",
      "4000/4000 [==============================] - 0s 113us/sample - loss: 0.3306 - accuracy: 0.8553 - val_loss: 0.3283 - val_accuracy: 0.8620\n",
      "Epoch 28/40\n",
      "4000/4000 [==============================] - 0s 123us/sample - loss: 0.3301 - accuracy: 0.8615 - val_loss: 0.3303 - val_accuracy: 0.8600\n",
      "Epoch 29/40\n",
      "4000/4000 [==============================] - 1s 154us/sample - loss: 0.3277 - accuracy: 0.8597 - val_loss: 0.3280 - val_accuracy: 0.8590\n",
      "Epoch 30/40\n",
      "4000/4000 [==============================] - 0s 119us/sample - loss: 0.3227 - accuracy: 0.8668 - val_loss: 0.3302 - val_accuracy: 0.8590\n",
      "Epoch 31/40\n",
      "4000/4000 [==============================] - 0s 108us/sample - loss: 0.3223 - accuracy: 0.8595 - val_loss: 0.3274 - val_accuracy: 0.8630\n",
      "Epoch 32/40\n",
      "4000/4000 [==============================] - 0s 111us/sample - loss: 0.3246 - accuracy: 0.8575 - val_loss: 0.3251 - val_accuracy: 0.8620\n",
      "Epoch 33/40\n",
      "4000/4000 [==============================] - 0s 109us/sample - loss: 0.3186 - accuracy: 0.8708 - val_loss: 0.3242 - val_accuracy: 0.8650\n",
      "Epoch 34/40\n",
      "4000/4000 [==============================] - 0s 101us/sample - loss: 0.3237 - accuracy: 0.8662 - val_loss: 0.3244 - val_accuracy: 0.8650\n",
      "Epoch 35/40\n",
      "4000/4000 [==============================] - 0s 110us/sample - loss: 0.3226 - accuracy: 0.8630 - val_loss: 0.3253 - val_accuracy: 0.8610\n",
      "Epoch 36/40\n",
      "4000/4000 [==============================] - 0s 103us/sample - loss: 0.3195 - accuracy: 0.8643 - val_loss: 0.3253 - val_accuracy: 0.8670\n",
      "Epoch 37/40\n",
      "4000/4000 [==============================] - 1s 128us/sample - loss: 0.3186 - accuracy: 0.8698 - val_loss: 0.3247 - val_accuracy: 0.8670\n",
      "Epoch 38/40\n",
      "4000/4000 [==============================] - 0s 114us/sample - loss: 0.3132 - accuracy: 0.8692 - val_loss: 0.3252 - val_accuracy: 0.8630\n",
      "Epoch 39/40\n",
      "4000/4000 [==============================] - 1s 133us/sample - loss: 0.3154 - accuracy: 0.8665 - val_loss: 0.3237 - val_accuracy: 0.8670\n",
      "Epoch 40/40\n",
      "4000/4000 [==============================] - 0s 118us/sample - loss: 0.3153 - accuracy: 0.8605 - val_loss: 0.3250 - val_accuracy: 0.8640\n"
     ]
    }
   ],
   "source": [
    "epochs = 40\n",
    "history = model.fit(\n",
    "    text_feature_train, label_train,\n",
    "    validation_data = (text_feature_val, label_val),\n",
    "    epochs=epochs\n",
    ")"
   ]
  },
  {
   "cell_type": "code",
   "execution_count": 22,
   "metadata": {},
   "outputs": [
    {
     "data": {
      "image/png": "[encoded data removed]",
      "text/plain": [
       "<Figure size 576x288 with 2 Axes>"
      ]
     },
     "metadata": {
      "needs_background": "light"
     },
     "output_type": "display_data"
    }
   ],
   "source": [
    "acc = history.history['accuracy']\n",
    "val_acc = history.history['val_accuracy']\n",
    "\n",
    "loss=history.history['loss']\n",
    "val_loss=history.history['val_loss']\n",
    "\n",
    "epochs_range = range(epochs)\n",
    "\n",
    "plt.figure(figsize=(8, 4))\n",
    "plt.subplot(1, 2, 1)\n",
    "plt.plot(epochs_range, acc, label='Training Accuracy')\n",
    "plt.plot(epochs_range, val_acc, label='Validation Accuracy')\n",
    "plt.legend(loc='lower right')\n",
    "plt.title('Training and Validation Accuracy')\n",
    "\n",
    "plt.subplot(1, 2, 2)\n",
    "plt.plot(epochs_range, loss, label='Training Loss')\n",
    "plt.plot(epochs_range, val_loss, label='Validation Loss')\n",
    "plt.legend(loc='upper right')\n",
    "plt.title('Training and Validation Loss')\n",
    "plt.show()"
   ]
  },
  {
   "cell_type": "code",
   "execution_count": 25,
   "metadata": {},
   "outputs": [
    {
     "name": "stdout",
     "output_type": "stream",
     "text": [
      "Training AUC ROC with image: 0.9510687755925009\n",
      "Validation AUC ROC with image: 0.9356030107475194\n"
     ]
    }
   ],
   "source": [
    "probability_model = tf.keras.Sequential([model, \n",
    "                                         tf.keras.layers.Softmax()])\n",
    "\n",
    "prob = probability_model.predict(text_feature_train)\n",
    "print('Training AUC ROC with image:', roc_auc_score(label_train, prob[:, 1]))\n",
    "\n",
    "prob = probability_model.predict(text_feature_val)\n",
    "print('Validation AUC ROC with image:', roc_auc_score(label_val, prob[:, 1]))"
   ]
  },
  {
   "cell_type": "code",
   "execution_count": 26,
   "metadata": {},
   "outputs": [
    {
     "data": {
      "image/png": "[encoded data removed]",
      "text/plain": [
       "<Figure size 432x288 with 2 Axes>"
      ]
     },
     "metadata": {
      "needs_background": "light"
     },
     "output_type": "display_data"
    }
   ],
   "source": [
    "prob = probability_model.predict(text_feature_val)\n",
    "\n",
    "confusion = confusion_matrix(\n",
    "label_val, prob.argmax(axis = 1))\n",
    "confusion_normalized = confusion.astype(\"float\") / confusion.sum(axis=1)\n",
    "\n",
    "axis_labels = range(num_classes)\n",
    "ax = sns.heatmap(\n",
    "    confusion_normalized, xticklabels=axis_labels, yticklabels=axis_labels,\n",
    "    cmap='Blues', annot=True, fmt='.2f', square=True)\n",
    "plt.title(\"Confusion matrix\")\n",
    "plt.ylabel(\"True label\")\n",
    "plt.xlabel(\"Predicted label\")\n",
    "plt.show()"
   ]
  },
  {
   "cell_type": "code",
   "execution_count": null,
   "metadata": {},
   "outputs": [],
   "source": []
  }
 ],
 "metadata": {
  "kernelspec": {
   "display_name": "py36",
   "language": "python",
   "name": "py36"
  },
  "language_info": {
   "codemirror_mode": {
    "name": "ipython",
    "version": 3
   },
   "file_extension": ".py",
   "mimetype": "text/x-python",
   "name": "python",
   "nbconvert_exporter": "python",
   "pygments_lexer": "ipython3",
   "version": "3.6.10"
  }
 },
 "nbformat": 4,
 "nbformat_minor": 4
}
