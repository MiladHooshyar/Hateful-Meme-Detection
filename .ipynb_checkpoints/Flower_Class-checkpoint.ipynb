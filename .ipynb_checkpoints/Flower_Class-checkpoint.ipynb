{
 "cells": [
  {
   "cell_type": "code",
   "execution_count": 474,
   "metadata": {},
   "outputs": [],
   "source": [
    "import matplotlib.pyplot as plt\n",
    "import numpy as np\n",
    "import os\n",
    "import PIL\n",
    "import tensorflow as tf\n",
    "import json\n",
    "\n",
    "from tensorflow import keras\n",
    "from tensorflow.keras import layers\n",
    "from tensorflow.keras.models import Sequential\n",
    "import seaborn as sns\n",
    "\n",
    "from sklearn.linear_model import LogisticRegression\n",
    "from sklearn.metrics import roc_auc_score, confusion_matrix"
   ]
  },
  {
   "cell_type": "markdown",
   "metadata": {},
   "source": [
    "#  Classification of flower images"
   ]
  },
  {
   "cell_type": "markdown",
   "metadata": {},
   "source": [
    "# Baseline: Logistic Regression"
   ]
  },
  {
   "cell_type": "code",
   "execution_count": 475,
   "metadata": {},
   "outputs": [],
   "source": [
    "train = np.load('D:/meme_data/features/train_flower.npz')\n",
    "img_feature = train['img_feature']\n",
    "label= train['label']\n",
    "\n",
    "index = np.arange(len(label))\n",
    "np.random.shuffle(index)\n",
    "img_feature = img_feature[index,:]\n",
    "label= label[index]\n",
    "\n",
    "num_classes = len(np.unique(label))"
   ]
  },
  {
   "cell_type": "code",
   "execution_count": 476,
   "metadata": {},
   "outputs": [],
   "source": [
    "val_ratio = 0.2\n",
    "L_val = int(val_ratio * len(label))\n",
    "\n",
    "label_train = label[:-L_val]\n",
    "label_val = label[-L_val:]\n",
    "\n",
    "img_feature_train = img_feature[:-L_val, :]\n",
    "img_feature_val = img_feature[-L_val:, :]"
   ]
  },
  {
   "cell_type": "code",
   "execution_count": 477,
   "metadata": {},
   "outputs": [
    {
     "name": "stdout",
     "output_type": "stream",
     "text": [
      "Training AUC ROC with image: 0.9987003124984337\n",
      "Validation AUC ROC with image: 0.9990003775463423\n"
     ]
    }
   ],
   "source": [
    "clf = LogisticRegression(random_state=0).fit(img_feature_train, label_train)\n",
    "prob = clf.predict_proba(img_feature_train)\n",
    "print('Training AUC ROC with image:', roc_auc_score(label_train, prob, multi_class='ovo'))\n",
    "\n",
    "\n",
    "prob = clf.predict_proba(img_feature_val)\n",
    "print('Validation AUC ROC with image:', roc_auc_score(label_val, prob, multi_class='ovo'))"
   ]
  },
  {
   "cell_type": "code",
   "execution_count": 478,
   "metadata": {},
   "outputs": [
    {
     "data": {
      "image/png": "[encoded data removed]",
      "text/plain": [
       "<Figure size 432x288 with 2 Axes>"
      ]
     },
     "metadata": {
      "needs_background": "light"
     },
     "output_type": "display_data"
    }
   ],
   "source": [
    "prob = clf.predict_proba(img_feature_val)\n",
    "\n",
    "confusion = confusion_matrix(\n",
    "label_val, prob.argmax(axis = 1))\n",
    "confusion_normalized = confusion.astype(\"float\") / confusion.sum(axis=1)\n",
    "\n",
    "axis_labels = range(num_classes)\n",
    "ax = sns.heatmap(\n",
    "    confusion_normalized, xticklabels=axis_labels, yticklabels=axis_labels,\n",
    "    cmap='Blues', annot=True, fmt='.2f', square=True)\n",
    "plt.title(\"Confusion matrix\")\n",
    "plt.ylabel(\"True label\")\n",
    "plt.xlabel(\"Predicted label\")\n",
    "plt.show()"
   ]
  },
  {
   "cell_type": "markdown",
   "metadata": {},
   "source": [
    "# Dense classifier"
   ]
  },
  {
   "cell_type": "code",
   "execution_count": 489,
   "metadata": {},
   "outputs": [],
   "source": [
    "train = np.load('D:/meme_data/features/train_flower.npz')\n",
    "img_feature = train['img_feature']\n",
    "label= train['label']\n",
    "\n",
    "index = np.arange(len(label))\n",
    "np.random.shuffle(index)\n",
    "img_feature = img_feature[index,:]\n",
    "label= label[index]\n",
    "\n",
    "num_classes = len(np.unique(label))"
   ]
  },
  {
   "cell_type": "code",
   "execution_count": 490,
   "metadata": {},
   "outputs": [],
   "source": [
    "val_ratio = 0.2\n",
    "L_val = int(val_ratio * len(label))\n",
    "\n",
    "label_train = label[:-L_val]\n",
    "label_val = label[-L_val:]\n",
    "\n",
    "img_feature_train = img_feature[:-L_val, :]\n",
    "img_feature_val = img_feature[-L_val:, :]"
   ]
  },
  {
   "cell_type": "code",
   "execution_count": 491,
   "metadata": {},
   "outputs": [],
   "source": [
    "N_feature = img_feature.shape[1]\n",
    "\n",
    "model = Sequential([\n",
    "    layers.Dense(32, activation='sigmoid'),\n",
    "    layers.Dropout(0.2),\n",
    "    layers.Dense(16, activation='relu'),\n",
    "    layers.Dense(num_classes)\n",
    "])\n",
    "\n",
    "model.compile(optimizer='adam',\n",
    "              loss=tf.keras.losses.SparseCategoricalCrossentropy(from_logits=True),\n",
    "              metrics=['accuracy'])"
   ]
  },
  {
   "cell_type": "code",
   "execution_count": 492,
   "metadata": {},
   "outputs": [
    {
     "name": "stdout",
     "output_type": "stream",
     "text": [
      "Train on 2936 samples, validate on 734 samples\n",
      "Epoch 1/40\n",
      "2936/2936 [==============================] - 1s 508us/sample - loss: 1.5134 - accuracy: 0.3563 - val_loss: 1.3468 - val_accuracy: 0.5763\n",
      "Epoch 2/40\n",
      "2936/2936 [==============================] - 0s 147us/sample - loss: 1.2289 - accuracy: 0.5807 - val_loss: 1.0031 - val_accuracy: 0.8311\n",
      "Epoch 3/40\n",
      "2936/2936 [==============================] - 1s 181us/sample - loss: 0.8612 - accuracy: 0.7769 - val_loss: 0.6074 - val_accuracy: 0.9046\n",
      "Epoch 4/40\n",
      "2936/2936 [==============================] - 1s 175us/sample - loss: 0.5410 - accuracy: 0.8726 - val_loss: 0.3796 - val_accuracy: 0.9319\n",
      "Epoch 5/40\n",
      "2936/2936 [==============================] - 1s 282us/sample - loss: 0.3637 - accuracy: 0.9149 - val_loss: 0.2666 - val_accuracy: 0.9441\n",
      "Epoch 6/40\n",
      "2936/2936 [==============================] - 1s 184us/sample - loss: 0.2802 - accuracy: 0.9247 - val_loss: 0.2166 - val_accuracy: 0.9469\n",
      "Epoch 7/40\n",
      "2936/2936 [==============================] - 1s 172us/sample - loss: 0.2212 - accuracy: 0.9390 - val_loss: 0.1871 - val_accuracy: 0.9510\n",
      "Epoch 8/40\n",
      "2936/2936 [==============================] - 0s 147us/sample - loss: 0.1908 - accuracy: 0.9431 - val_loss: 0.1727 - val_accuracy: 0.9496\n",
      "Epoch 9/40\n",
      "2936/2936 [==============================] - 1s 220us/sample - loss: 0.1729 - accuracy: 0.9482 - val_loss: 0.1614 - val_accuracy: 0.9496\n",
      "Epoch 10/40\n",
      "2936/2936 [==============================] - 1s 177us/sample - loss: 0.1576 - accuracy: 0.9503 - val_loss: 0.1554 - val_accuracy: 0.9523\n",
      "Epoch 11/40\n",
      "2936/2936 [==============================] - 0s 162us/sample - loss: 0.1432 - accuracy: 0.9578 - val_loss: 0.1531 - val_accuracy: 0.9537\n",
      "Epoch 12/40\n",
      "2936/2936 [==============================] - 0s 162us/sample - loss: 0.1369 - accuracy: 0.9605 - val_loss: 0.1487 - val_accuracy: 0.9523\n",
      "Epoch 13/40\n",
      "2936/2936 [==============================] - 0s 151us/sample - loss: 0.1328 - accuracy: 0.9581 - val_loss: 0.1479 - val_accuracy: 0.9550\n",
      "Epoch 14/40\n",
      "2936/2936 [==============================] - 0s 149us/sample - loss: 0.1268 - accuracy: 0.9608 - val_loss: 0.1451 - val_accuracy: 0.9564\n",
      "Epoch 15/40\n",
      "2936/2936 [==============================] - 0s 138us/sample - loss: 0.1221 - accuracy: 0.9656 - val_loss: 0.1370 - val_accuracy: 0.9537\n",
      "Epoch 16/40\n",
      "2936/2936 [==============================] - 0s 141us/sample - loss: 0.1087 - accuracy: 0.9642 - val_loss: 0.1387 - val_accuracy: 0.9578\n",
      "Epoch 17/40\n",
      "2936/2936 [==============================] - 0s 131us/sample - loss: 0.1061 - accuracy: 0.9670 - val_loss: 0.1368 - val_accuracy: 0.9537\n",
      "Epoch 18/40\n",
      "2936/2936 [==============================] - 0s 120us/sample - loss: 0.1060 - accuracy: 0.9714 - val_loss: 0.1373 - val_accuracy: 0.9578\n",
      "Epoch 19/40\n",
      "2936/2936 [==============================] - 0s 110us/sample - loss: 0.1017 - accuracy: 0.9700 - val_loss: 0.1366 - val_accuracy: 0.9550\n",
      "Epoch 20/40\n",
      "2936/2936 [==============================] - 0s 109us/sample - loss: 0.0966 - accuracy: 0.9714 - val_loss: 0.1379 - val_accuracy: 0.9537\n",
      "Epoch 21/40\n",
      "2936/2936 [==============================] - 0s 117us/sample - loss: 0.0943 - accuracy: 0.9704 - val_loss: 0.1315 - val_accuracy: 0.9564\n",
      "Epoch 22/40\n",
      "2936/2936 [==============================] - 0s 120us/sample - loss: 0.0952 - accuracy: 0.9680 - val_loss: 0.1367 - val_accuracy: 0.9537\n",
      "Epoch 23/40\n",
      "2936/2936 [==============================] - 0s 124us/sample - loss: 0.0937 - accuracy: 0.9717 - val_loss: 0.1354 - val_accuracy: 0.9523\n",
      "Epoch 24/40\n",
      "2936/2936 [==============================] - 0s 120us/sample - loss: 0.0879 - accuracy: 0.9731 - val_loss: 0.1319 - val_accuracy: 0.9591\n",
      "Epoch 25/40\n",
      "2936/2936 [==============================] - 0s 123us/sample - loss: 0.0861 - accuracy: 0.9724 - val_loss: 0.1287 - val_accuracy: 0.9523\n",
      "Epoch 26/40\n",
      "2936/2936 [==============================] - 0s 122us/sample - loss: 0.0861 - accuracy: 0.9707 - val_loss: 0.1370 - val_accuracy: 0.9537\n",
      "Epoch 27/40\n",
      "2936/2936 [==============================] - 0s 117us/sample - loss: 0.0860 - accuracy: 0.9710 - val_loss: 0.1380 - val_accuracy: 0.9510\n",
      "Epoch 28/40\n",
      "2936/2936 [==============================] - 0s 114us/sample - loss: 0.0867 - accuracy: 0.9738 - val_loss: 0.1423 - val_accuracy: 0.9523\n",
      "Epoch 29/40\n",
      "2936/2936 [==============================] - 0s 100us/sample - loss: 0.0830 - accuracy: 0.9728 - val_loss: 0.1357 - val_accuracy: 0.9537\n",
      "Epoch 30/40\n",
      "2936/2936 [==============================] - 0s 120us/sample - loss: 0.0803 - accuracy: 0.9751 - val_loss: 0.1360 - val_accuracy: 0.9537\n",
      "Epoch 31/40\n",
      "2936/2936 [==============================] - 0s 110us/sample - loss: 0.0755 - accuracy: 0.9762 - val_loss: 0.1342 - val_accuracy: 0.9550\n",
      "Epoch 32/40\n",
      "2936/2936 [==============================] - 0s 131us/sample - loss: 0.0720 - accuracy: 0.9792 - val_loss: 0.1401 - val_accuracy: 0.9550\n",
      "Epoch 33/40\n",
      "2936/2936 [==============================] - 0s 129us/sample - loss: 0.0741 - accuracy: 0.9772 - val_loss: 0.1364 - val_accuracy: 0.9550\n",
      "Epoch 34/40\n",
      "2936/2936 [==============================] - 0s 110us/sample - loss: 0.0681 - accuracy: 0.9792 - val_loss: 0.1360 - val_accuracy: 0.9564\n",
      "Epoch 35/40\n",
      "2936/2936 [==============================] - 0s 119us/sample - loss: 0.0762 - accuracy: 0.9796 - val_loss: 0.1335 - val_accuracy: 0.9578\n",
      "Epoch 36/40\n",
      "2936/2936 [==============================] - 0s 130us/sample - loss: 0.0706 - accuracy: 0.9779 - val_loss: 0.1333 - val_accuracy: 0.9537\n",
      "Epoch 37/40\n",
      "2936/2936 [==============================] - 0s 147us/sample - loss: 0.0679 - accuracy: 0.9789 - val_loss: 0.1365 - val_accuracy: 0.9550\n",
      "Epoch 38/40\n",
      "2936/2936 [==============================] - 0s 106us/sample - loss: 0.0671 - accuracy: 0.9775 - val_loss: 0.1347 - val_accuracy: 0.9537\n",
      "Epoch 39/40\n",
      "2936/2936 [==============================] - 0s 101us/sample - loss: 0.0620 - accuracy: 0.9806 - val_loss: 0.1347 - val_accuracy: 0.9564\n",
      "Epoch 40/40\n",
      "2936/2936 [==============================] - 0s 114us/sample - loss: 0.0591 - accuracy: 0.9823 - val_loss: 0.1396 - val_accuracy: 0.9550\n"
     ]
    }
   ],
   "source": [
    "epochs = 40\n",
    "history = model.fit(\n",
    "    img_feature_train, label_train,\n",
    "    epochs=epochs, \n",
    "    validation_data = (img_feature_val, label_val)\n",
    ")"
   ]
  },
  {
   "cell_type": "code",
   "execution_count": 493,
   "metadata": {},
   "outputs": [
    {
     "data": {
      "image/png": "[encoded data removed]",
      "text/plain": [
       "<Figure size 576x288 with 2 Axes>"
      ]
     },
     "metadata": {
      "needs_background": "light"
     },
     "output_type": "display_data"
    }
   ],
   "source": [
    "acc = history.history['accuracy']\n",
    "val_acc = history.history['val_accuracy']\n",
    "\n",
    "loss=history.history['loss']\n",
    "val_loss=history.history['val_loss']\n",
    "\n",
    "epochs_range = range(epochs)\n",
    "\n",
    "plt.figure(figsize=(8, 4))\n",
    "plt.subplot(1, 2, 1)\n",
    "plt.plot(epochs_range, acc, label='Training Accuracy')\n",
    "plt.plot(epochs_range, val_acc, label='Validation Accuracy')\n",
    "plt.legend(loc='lower right')\n",
    "plt.title('Training and Validation Accuracy')\n",
    "\n",
    "plt.subplot(1, 2, 2)\n",
    "plt.plot(epochs_range, loss, label='Training Loss')\n",
    "plt.plot(epochs_range, val_loss, label='Validation Loss')\n",
    "plt.legend(loc='upper right')\n",
    "plt.title('Training and Validation Loss')\n",
    "plt.show()"
   ]
  },
  {
   "cell_type": "code",
   "execution_count": 494,
   "metadata": {},
   "outputs": [
    {
     "name": "stdout",
     "output_type": "stream",
     "text": [
      "Training AUC ROC with image: 0.9995498352475349\n",
      "Validation AUC ROC with image: 0.9966489258245295\n"
     ]
    }
   ],
   "source": [
    "probability_model = tf.keras.Sequential([model, \n",
    "                                         tf.keras.layers.Softmax()])\n",
    "\n",
    "prob = probability_model.predict(img_feature_train)\n",
    "print('Training AUC ROC with image:', roc_auc_score(label_train, prob, multi_class='ovo'))\n",
    "\n",
    "prob = probability_model.predict(img_feature_val)\n",
    "print('Validation AUC ROC with image:', roc_auc_score(label_val, prob, multi_class='ovo'))"
   ]
  },
  {
   "cell_type": "code",
   "execution_count": 495,
   "metadata": {},
   "outputs": [
    {
     "data": {
      "image/png": "[encoded data removed]",
      "text/plain": [
       "<Figure size 432x288 with 2 Axes>"
      ]
     },
     "metadata": {
      "needs_background": "light"
     },
     "output_type": "display_data"
    }
   ],
   "source": [
    "prob = probability_model.predict(img_feature_val)\n",
    "\n",
    "confusion = confusion_matrix(\n",
    "label_val, prob.argmax(axis = 1))\n",
    "confusion_normalized = confusion.astype(\"float\") / confusion.sum(axis=1)\n",
    "\n",
    "axis_labels = range(num_classes)\n",
    "ax = sns.heatmap(\n",
    "    confusion_normalized, xticklabels=axis_labels, yticklabels=axis_labels,\n",
    "    cmap='Blues', annot=True, fmt='.2f', square=True)\n",
    "plt.title(\"Confusion matrix\")\n",
    "plt.ylabel(\"True label\")\n",
    "plt.xlabel(\"Predicted label\")\n",
    "plt.show()"
   ]
  },
  {
   "cell_type": "code",
   "execution_count": null,
   "metadata": {},
   "outputs": [],
   "source": []
  }
 ],
 "metadata": {
  "kernelspec": {
   "display_name": "py36",
   "language": "python",
   "name": "py36"
  },
  "language_info": {
   "codemirror_mode": {
    "name": "ipython",
    "version": 3
   },
   "file_extension": ".py",
   "mimetype": "text/x-python",
   "name": "python",
   "nbconvert_exporter": "python",
   "pygments_lexer": "ipython3",
   "version": "3.6.10"
  }
 },
 "nbformat": 4,
 "nbformat_minor": 4
}
