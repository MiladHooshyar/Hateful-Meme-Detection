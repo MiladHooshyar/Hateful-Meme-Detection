{
 "cells": [
  {
   "cell_type": "code",
   "execution_count": 123,
   "metadata": {},
   "outputs": [],
   "source": [
    "from clarifai.rest import ClarifaiApp\n",
    "import json\n",
    "from clarifai.rest import Image as ClImage\n",
    "import numpy as np\n",
    "import matplotlib.pylab as plt"
   ]
  },
  {
   "cell_type": "code",
   "execution_count": 124,
   "metadata": {},
   "outputs": [],
   "source": [
    "app = ClarifaiApp(api_key='657ff2fc61da403c8e9989dcf5dcaa5a')"
   ]
  },
  {
   "cell_type": "code",
   "execution_count": 8,
   "metadata": {},
   "outputs": [],
   "source": [
    "#General Embedding model\n",
    "model = app.models.get(model_id=\"bbb5f41425b8468d9b7a554ff10f8581\")\n",
    "response = model.predict_by_url(url='https://samples.clarifai.com/metro-north.jpg')"
   ]
  },
  {
   "cell_type": "code",
   "execution_count": 125,
   "metadata": {},
   "outputs": [],
   "source": [
    "with open('D:/Lnmwdnq3YcF7F3YsJncp/data/train.jsonl', 'r') as json_file:\n",
    "    json_list = list(json_file)\n",
    "    \n",
    "label_train = []\n",
    "img_link_train = []\n",
    "text_train = []\n",
    "for json_str in json_list:\n",
    "    result = json.loads(json_str)\n",
    "    label_train.append(result['label'])\n",
    "    img_link_train.append(result['img'])\n",
    "    text_train.append(result['text'])"
   ]
  },
  {
   "cell_type": "code",
   "execution_count": 126,
   "metadata": {},
   "outputs": [
    {
     "name": "stdout",
     "output_type": "stream",
     "text": [
      "5450 3050\n"
     ]
    }
   ],
   "source": [
    "labels = np.asarray(label_train)\n",
    "print(len(labels[labels == 0]) ,  len(labels[labels == 1]))"
   ]
  },
  {
   "cell_type": "code",
   "execution_count": 127,
   "metadata": {},
   "outputs": [],
   "source": [
    "N = 5000\n",
    "\n",
    "images = []\n",
    "for file, lb in zip(img_link_train[:N], label_train[:N]):\n",
    "    if lb == 0:\n",
    "        c = 'Not offensive'\n",
    "    else:\n",
    "        c = 'Offensive'\n",
    "    img = ClImage(filename='D:/Lnmwdnq3YcF7F3YsJncp/data/' + file, concepts=[c])\n",
    "    images.append(img)\n",
    "    if len(images) == 100:\n",
    "        app.inputs.bulk_create_images(images)\n",
    "        images = []"
   ]
  },
  {
   "cell_type": "code",
   "execution_count": 128,
   "metadata": {},
   "outputs": [],
   "source": [
    "model = app.models.create(model_id=\"meme_v1\", concepts=[\"Offensive\", \"Not offensive\"])"
   ]
  },
  {
   "cell_type": "code",
   "execution_count": 129,
   "metadata": {},
   "outputs": [
    {
     "data": {
      "text/plain": [
       "<clarifai.rest.client.Model at 0x1f7aa9d0a30>"
      ]
     },
     "execution_count": 129,
     "metadata": {},
     "output_type": "execute_result"
    }
   ],
   "source": [
    "model.train()"
   ]
  },
  {
   "cell_type": "code",
   "execution_count": 130,
   "metadata": {},
   "outputs": [],
   "source": [
    "model = app.models.get('meme_v1')\n",
    "\n",
    "label_test = []\n",
    "img_link_test= []\n",
    "text_test = []\n",
    "\n",
    "for json_str in json_list[1000:1100]:\n",
    "    result = json.loads(json_str)\n",
    "    \n",
    "    label_test.append(result['label'])\n",
    "    img_link_test.append(result['img'])\n",
    "    text_test.append(result['text'])\n",
    "\n",
    "\n",
    "pred = []\n",
    "for file in img_link_test:\n",
    "    res = model.predict_by_filename(filename='D:/Lnmwdnq3YcF7F3YsJncp/data/' + file)\n",
    "    for i in range(2):\n",
    "        if res['outputs'][0]['data']['concepts'][i]['id'] == 'Offensive':\n",
    "            pred.append(res['outputs'][0]['data']['concepts'][i]['value'])"
   ]
  },
  {
   "cell_type": "code",
   "execution_count": 131,
   "metadata": {},
   "outputs": [],
   "source": [
    "label_test = np.asarray(label_test)\n",
    "pred = np.asarray(pred)"
   ]
  },
  {
   "cell_type": "code",
   "execution_count": 132,
   "metadata": {},
   "outputs": [
    {
     "name": "stdout",
     "output_type": "stream",
     "text": [
      "0.35882549140000003 0.54392962425\n"
     ]
    }
   ],
   "source": [
    "print(pred[label_test == 0].mean(), pred[label_test == 1].mean())"
   ]
  },
  {
   "cell_type": "code",
   "execution_count": null,
   "metadata": {},
   "outputs": [],
   "source": []
  }
 ],
 "metadata": {
  "kernelspec": {
   "display_name": "Python 3",
   "language": "python",
   "name": "python3"
  },
  "language_info": {
   "codemirror_mode": {
    "name": "ipython",
    "version": 3
   },
   "file_extension": ".py",
   "mimetype": "text/x-python",
   "name": "python",
   "nbconvert_exporter": "python",
   "pygments_lexer": "ipython3",
   "version": "3.8.3"
  }
 },
 "nbformat": 4,
 "nbformat_minor": 4
}
